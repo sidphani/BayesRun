{
 "cells": [
  {
   "cell_type": "markdown",
   "metadata": {
    "id": "LteXu8Ddnx_c"
   },
   "source": [
    "# Bayesian Runtime Calculator (Adidas) R Colab v0.2\n",
    "\n",
    "<i>The version supports two variants (including control).</i> <br>\n",
    "<i>Separate version release for 3 variants </i>"
   ]
  },
  {
   "cell_type": "markdown",
   "metadata": {
    "id": "SWa6idmHoHx4"
   },
   "source": [
    "### 1. Version Notes\n",
    "\n",
    "|<b> Environment:</b><br>\n",
    "R 3.6<br>\n",
    "Required packages-Base R packages and Tidyverse:<br>\n",
    "\n",
    "|\n",
    "<b>Runtime Preparation:</b><br>\n",
    "We need to collect a **5-week** sample of total visits and total conversions on the segment.<br>\n",
    "This goes in as an input to f1 and f2 respectively <br>"
   ]
  },
  {
   "cell_type": "code",
   "execution_count": 2,
   "metadata": {
    "colab": {
     "base_uri": "https://localhost:8080/"
    },
    "id": "sdyV67dk2vGx",
    "outputId": "39e06e73-2f75-4e86-a69d-8ac6a9d22127"
   },
   "outputs": [
    {
     "name": "stderr",
     "output_type": "stream",
     "text": [
      "Warning message in system(\"timedatectl\", intern = TRUE):\n",
      "“running command 'timedatectl' had status 1”\n",
      "── \u001b[1mAttaching packages\u001b[22m ─────────────────────────────────────── tidyverse 1.3.0 ──\n",
      "\n",
      "\u001b[32m✔\u001b[39m \u001b[34mggplot2\u001b[39m 3.3.3     \u001b[32m✔\u001b[39m \u001b[34mpurrr  \u001b[39m 0.3.4\n",
      "\u001b[32m✔\u001b[39m \u001b[34mtibble \u001b[39m 3.1.0     \u001b[32m✔\u001b[39m \u001b[34mdplyr  \u001b[39m 1.0.5\n",
      "\u001b[32m✔\u001b[39m \u001b[34mtidyr  \u001b[39m 1.1.3     \u001b[32m✔\u001b[39m \u001b[34mstringr\u001b[39m 1.4.0\n",
      "\u001b[32m✔\u001b[39m \u001b[34mreadr  \u001b[39m 1.4.0     \u001b[32m✔\u001b[39m \u001b[34mforcats\u001b[39m 0.5.1\n",
      "\n",
      "── \u001b[1mConflicts\u001b[22m ────────────────────────────────────────── tidyverse_conflicts() ──\n",
      "\u001b[31m✖\u001b[39m \u001b[34mdplyr\u001b[39m::\u001b[32mfilter()\u001b[39m masks \u001b[34mstats\u001b[39m::filter()\n",
      "\u001b[31m✖\u001b[39m \u001b[34mdplyr\u001b[39m::\u001b[32mlag()\u001b[39m    masks \u001b[34mstats\u001b[39m::lag()\n",
      "\n"
     ]
    }
   ],
   "source": [
    "library(\"tidyverse\")\n",
    "library(\"parallel\")\n",
    "source(\"https://gist.githubusercontent.com/benschipper/9ce3768689916e2cee78e82fa7a60db6/raw/5454d939d1da0bd424d10a20df685089995b9456/BayesRun_GCE1.R\")"
   ]
  },
  {
   "cell_type": "markdown",
   "metadata": {
    "id": "HZy9zigBKHka"
   },
   "source": [
    "### 2. Manual input \n",
    "pgt -> Page Type<br>\n",
    "kpi -> Primary KPI tested for<br>\n",
    "Market -> Market coverage for the test <br>\n",
    "f1 -> 5 week total sample collected  <br>\n",
    "f2 -> 5 week total conversions  <br>\n",
    "<br>\n",
    "mde -> Option is open for processing against multiple MDEs in a batch eg.  <br>\n",
    "To run against a single MDE -> use <b>\" mde = c(2.0) </b> \"  For mde say 2.0  <br>\n",
    "To submit batch for Multiple MDEs -> use <b>\" mde = c(0.5,0.7,0.8,1.0,1.3,1.5,1.8,2.0) \"</b>  |  For mde say between 0.5 & 2.0  <br>\n",
    "#### Carefully input the values for each variable <br>\n",
    "<i>The Page type / KPI/ Market variables are only for debugging/user reference and not mandatory for script execution. <br>\n",
    "f1 & f2 & mde are mandatory var inputs required by the script.<i/>\n",
    "\n",
    "For example:\n",
    "ATP-4220\n",
    "Visits Seg - Outdoor PLPs: **317941**\n",
    "Visits Cov Seg -  Outdoor PLPs > A2C : **197085**\n"
   ]
  },
  {
   "cell_type": "code",
   "execution_count": 4,
   "metadata": {
    "colab": {
     "base_uri": "https://localhost:8080/"
    },
    "id": "lLBCmk-PTc7z",
    "outputId": "877a384b-5ebe-4f6a-bfae-7b33681e029f"
   },
   "outputs": [
    {
     "name": "stdout",
     "output_type": "stream",
     "text": [
      "Conversion Rate: \"61.987920\"\n"
     ]
    }
   ],
   "source": [
    "## Manual Input cell 794180\n",
    "\n",
    "pgt = 'Delivery Page' \n",
    "kpi = 'Order Conversion'\n",
    "Market = 'US'\n",
    "f1 = 317941 \n",
    "f2 = 197085 \n",
    "##---------- use c(0.5,0.7,0.8,1.0,1.3,1.5,1.8,2.0) for multiple MDEs --------------##\n",
    "mde= c(2.0) \n",
    "cat(sprintf(\"Conversion Rate: \\\"%f\\\"\\n\", round(f2/f1,7)*100))"
   ]
  },
  {
   "cell_type": "markdown",
   "metadata": {
    "id": "Q3id0tS5sBWc"
   },
   "source": [
    "# 3. Perform calculations"
   ]
  },
  {
   "cell_type": "code",
   "execution_count": 5,
   "metadata": {
    "colab": {
     "base_uri": "https://localhost:8080/",
     "height": 85
    },
    "id": "xuURaAoXTdFM",
    "outputId": "3efd78a8-435b-438b-b0c1-fc6e36fc7f25"
   },
   "outputs": [
    {
     "name": "stdout",
     "output_type": "stream",
     "text": [
      "[1] \"Computation in progress...\"\n",
      "[1] \"no eta\"\n"
     ]
    },
    {
     "data": {
      "text/plain": [
       "   user  system elapsed \n",
       " 22.487   1.053  12.147 "
      ]
     },
     "metadata": {
      "tags": []
     },
     "output_type": "display_data"
    }
   ],
   "source": [
    "system.time(sim_rope_1 <-\n",
    "  crossing(mde  = c(mde),\n",
    "           power = c(0.8)) %>% \n",
    "  mutate(results = map2_dbl(pgt=pgt,kpi=kpi,mde, power,inc=1,hdi_mass=0.95, five_wk_sz=f1,\n",
    "                five_wk_conv=f2,sim_power)))"
   ]
  },
  {
   "cell_type": "markdown",
   "metadata": {
    "id": "qzW29UF-rbQN"
   },
   "source": [
    "## 4. Display Tabular results"
   ]
  },
  {
   "cell_type": "code",
   "execution_count": 64,
   "metadata": {
    "colab": {
     "base_uri": "https://localhost:8080/",
     "height": 128
    },
    "id": "3oCf5AzumpdV",
    "outputId": "511ac1b7-4a93-432f-be94-98076ee4420e"
   },
   "outputs": [
    {
     "data": {
      "text/html": [
       "<table class=\"dataframe\">\n",
       "<caption>A data.frame: 1 × 9</caption>\n",
       "<thead>\n",
       "\t<tr><th scope=col>PageType</th><th scope=col>PrimaryKPI</th><th scope=col>Market</th><th scope=col>mde</th><th scope=col>power</th><th scope=col>Sample_Size_per_Variant</th><th scope=col>Runtime_weeks</th><th scope=col>fiveweeksize</th><th scope=col>conversions</th></tr>\n",
       "\t<tr><th scope=col>&lt;chr&gt;</th><th scope=col>&lt;chr&gt;</th><th scope=col>&lt;chr&gt;</th><th scope=col>&lt;dbl&gt;</th><th scope=col>&lt;dbl&gt;</th><th scope=col>&lt;dbl&gt;</th><th scope=col>&lt;dbl&gt;</th><th scope=col>&lt;dbl&gt;</th><th scope=col>&lt;dbl&gt;</th></tr>\n",
       "</thead>\n",
       "<tbody>\n",
       "\t<tr><td>Delivery Page</td><td>Order Conversion</td><td>US</td><td>2</td><td>0.8</td><td>14933.27</td><td>1</td><td>317941</td><td>197085</td></tr>\n",
       "</tbody>\n",
       "</table>\n"
      ],
      "text/latex": [
       "A data.frame: 1 × 9\n",
       "\\begin{tabular}{lllllllll}\n",
       " PageType & PrimaryKPI & Market & mde & power & Sample\\_Size\\_per\\_Variant & Runtime\\_weeks & fiveweeksize & conversions\\\\\n",
       " <chr> & <chr> & <chr> & <dbl> & <dbl> & <dbl> & <dbl> & <dbl> & <dbl>\\\\\n",
       "\\hline\n",
       "\t Delivery Page & Order Conversion & US & 2 & 0.8 & 14933.27 & 1 & 317941 & 197085\\\\\n",
       "\\end{tabular}\n"
      ],
      "text/markdown": [
       "\n",
       "A data.frame: 1 × 9\n",
       "\n",
       "| PageType &lt;chr&gt; | PrimaryKPI &lt;chr&gt; | Market &lt;chr&gt; | mde &lt;dbl&gt; | power &lt;dbl&gt; | Sample_Size_per_Variant &lt;dbl&gt; | Runtime_weeks &lt;dbl&gt; | fiveweeksize &lt;dbl&gt; | conversions &lt;dbl&gt; |\n",
       "|---|---|---|---|---|---|---|---|---|\n",
       "| Delivery Page | Order Conversion | US | 2 | 0.8 | 14933.27 | 1 | 317941 | 197085 |\n",
       "\n"
      ],
      "text/plain": [
       "  PageType      PrimaryKPI       Market mde power Sample_Size_per_Variant\n",
       "1 Delivery Page Order Conversion US     2   0.8   14933.27               \n",
       "  Runtime_weeks fiveweeksize conversions\n",
       "1 1             317941       197085     "
      ]
     },
     "metadata": {
      "tags": []
     },
     "output_type": "display_data"
    }
   ],
   "source": [
    "sim_rope_df <- data.frame(sim_rope_1) %>% \n",
    " rename(Sample_Size_per_Variant=results) %>% \n",
    " mutate(PageType = pgt, PrimaryKPI=kpi,Market=Market,fiveweeksize =f1,conversions=f2, Runtime_weeks= ceiling((Sample_Size_per_Variant*2)/(f1/5)))  %>% \n",
    " select(PageType , PrimaryKPI,Market,mde,\tpower,\tSample_Size_per_Variant\t, Runtime_weeks,fiveweeksize, conversions)\n",
    "\n",
    "sim_rope_df"
   ]
  },
  {
   "cell_type": "markdown",
   "metadata": {},
   "source": [
    "## 5. Export & download results as csv"
   ]
  },
  {
   "cell_type": "code",
   "execution_count": 63,
   "metadata": {
    "id": "vIOYjoKeUAla"
   },
   "outputs": [],
   "source": [
    "## Save a copy as csv\n",
    "write_csv(sim_rope_df,\"report.csv\")"
   ]
  },
  {
   "cell_type": "markdown",
   "metadata": {
    "id": "1D4wXnXuP-kg"
   },
   "source": [
    "\n",
    "---\n",
    "\n",
    "\n",
    "\n",
    "\n",
    "*After running the cell contents above go to the \"Files\" Pane on the left where the .csv file can be located.*\n",
    "\n",
    "![lpane.PNG](data:image/png;base64,iVBORw0KGgoAAAANSUhEUgAAAVEAAAEECAYAAACRNQcGAAAAAXNSR0IArs4c6QAAAARnQU1BAACxjwv8YQUAAAAJcEhZcwAADsMAAA7DAcdvqGQAACh0SURBVHhe7Z1vcBRVvvd5fd/srXre5Hl1n1RpVXzYuuDWFguW4krBswuCd4HVdbOla3R3BXOvrBeDcpHgSvAPy+oWRl0viBRKuOCNAm6UVQERia5swgUDqCggf4wbkBgBEyDwe873TJ/J6Z7umek5M8lM8v1UnUqmz+nu06e7P3P+TfcwIYQQkjOUKCGEOECJEkKIA5QoIYQ4QIkSQogDlCghhDhAiRJCiAOUKCGEOECJEkKIA5QoIYQ4QIkSQogDlCghhDhAiRJCBpxDhw7pUIpQojnw9LZ/E/nw5tRAipvuTum+4P0/kFzols5u73+i2bp1qw6lCCUakxc+3irfee5m+fD9aSItP/SHk01eqsy0N0yTYcOGBUK5jKlaIpvbvUQlTOjxXTZG7nioUfad9hL1J51NUl2m8jBxuRz0Fg0M+6R+tMpH2TzZPKAibZY6dU6mNQz8xdbZ2Snr1q3TAf+XGpRoDC5c7JXh//WvWqIT14ZI9MObRC71eqnTk5DMHVK/ZbNsNuG15TL7ujJ1g1VK41EvYYkSdnxNDfNkkhJZ2XVLpLVgAmmX1TcqST3U7H326G6VOiWv8n9rkoG9Tdul8ZYyVQb10uotGRiKR6IffPCBvPHGG/LnP/9Z/19qUKIxqGtZqwVqwso3JqaK9PhzXur0JCRTpy7lAKc3y2yI5uGBvcVciTy+A8tlkrp5J60oVH0wQqIkQHFI9Pz587oGavpE8T+WlRKUaJZ82tXuEyjCP6+ulEutE1JF2pO5GhkpmUEigYzHN7NQNUJKNDv6V6IQIyS5d+9eHVDjRB8oaqCvvPKKjkfA/1iGOKQx6bFusco17xK9dOaQXDy8Unr3PqjDpY639bJsudixVXo/+WNyfYSLx9erszCwjbBfv12fItHHd6t8fdmQKtFDdd5a0WSqifov7k5pXlotk76rmvrqwkff4rSa1bLPFMmuJXLlsDKZtyW1jdy9ZZ6UDRsjS3Z5Cy60y+bFd8g4b1tl350k1UubA0Lrln0v18kdo8uT+9N9mTFOQbYSbX5I/R+W7uhqmab2Xfde4qPZXtP+RqmrGiPlyJfXh9x8wk6D5Va4cbXao44NyNWTyKrWRNlehvRlcsWU2dKoL9dO2dcwO1nm5ROrZfmuYPkm0kwLllOGPl99zMl8GZntS1/mJxrlDrU8tAava/dlUr1Rl6j/uKzzPFvto+8IzH4PSuf2eqmeaO138WZpL8AAnKlpIhhJtrW1ybFjx7wUov/HMiNZkx7rFit5keilzl1yYedtcv61/yPnXhoWHtb/o5ZjKEqQWB9pQtf1woUdP9GS7W+2HNudItAfNN7rxSr23pYq0q6dXmQ4iRs+0Cf6cr3ccd0VMm2xLbV2aaxCP+k4dXGvliaVrnGFunFx04+u8/oWD8ryiepzVWNAhp1qXWv5aXXj6D5Xta2ljXqfjUuVUNF9cMvq5IBL58ZqJd4ymXTPcmlUaZoa6rz9Lcm6Hy9Sol5z/o6XEzmNJ9EyKStT+ZrrlYOXd5Ov7qOt6pgaZd4EtezX9Yky3dnuiSNcothe2XXqPLzslb8e9KmWeXPH+JfrcquWJk/YKPPGKoinXKY9lMhPXzmp40kj0jCJXjla7c8+x0bsyW11y+a5Kg8jU89B6+IrreV9xzVstJf/11ZL3Y3IqxFtX7pxU6dJefJ6aJLV+ILV/dbpjyFXIEnUNiHIdDVLxCEN0tqSLUacJdq7d0Go8KICRHvx+Cve2qrmeej5jPIMBsi0P2um/+/V2hSJvnLQu7vBqbdTJfrRv3qR4YTWmnRQtaGf10urfQGfaJXW4BfxoYRkzE2REN8kWX5Af0zg1VBMDbX18TFq+9NkdXBbqiY7BjfYa5bYpgRGsQ81S+N7fbXj7s5OPZLqD331nLAviTBhx5Moalj+mlj3G7PVcV/ZV9NOkaUhXKLDRs7zy0KV2biI5ZC/v7yvlHnb+45Z096oZwGMWbrPW5BKmERxXpYHz4uqfWJbZXM3J74IvPPka3F0b5Z5Kk1fDTXiuMwXbbIbxUtXVpl6PahrqxLH8Hhh+uVxrZhme5hIscw085G22MlZope6PpcLb/8wVHKZAsQLLnzwy9D4bML5N0fqPBSa5z96K0WgN7+52Iu1+PQ/UkV6YqMXmUpUTa1z13J9AZf5+gy7pf291VJfoyQ0YZpUz6+X1e81y/KpaI4ZsbXKkpGqRrO478L311AS8cNq1HZ94kNolfopiEvcrN0769TNqpqwN86W+oYmJfBOrzZn8ISkb34rJMVgji8Qfxm6DvxNxXgSnZ06LSiQLpm3LCU67j/9Us60PFHendI0U21rivqySylLFVej4iZET6UKk2hZSn4THPzPcVb5BFoWWPLyHSr+DmlM1pCj8h++37B0oPmh8Fpvvjhz5kzkaDyWIQ5pSoGcJHrp26/l5JLR0vPa1aGCSxfON/2TrkX2/s+s0Phsw5n/ulbnAXkpJNesvz9Fove81CZPvN7jC6vf3Ctvvd2YEqKIkig4uGKSiquURn21e81GNLnmm+Z1vcz2+gXtvlO9npl/GFVDSRcsCUr7ZlkOaSf7YSfJ7JejtJCK//i61U2pasG+5nCCeBLNnC5VloZwiaYOrGSzPOJLxBfCzy0Ik1nq/jy2zFPbUq0Hb6wy0cdtWhyJ2mWypqqJ3l6c/aa7PvNFVF+n6TstFXKS6Kn6H8mX9/yDDnFFiuY7mvNhcdkGCNTs/9RTP/JyVRhePfyBT6CXPfEnueb+4zJu0ZmM4Z2Ponvn016k260bR9UKQ5uNXs3SdxOcSEwoR3+jvtl8E7oT6aNqHmk5fVA2Pzwp0GxOT8rxefM07aY8iJToezjuYpWoVxP1au5xCZNZdjVRoM6jKkfd4tBdDIEunMj8h+93oGqiHR0dWpSobeL/pqYmHfA/liEO/5cCsSXas2djUmAmJEW6/ju6qa4Hf1RtU4/UK2Gef/taHY+/WJ6uD/TCjn/R6+gRfZVWj9Zb/a62QE04d+AdL3eF4eY3f68F+r+W/UpGz9kv19x3VH744KlQcZowb2362ytaot2yuca6gJVMhg0bJ/X7dWSSgw2VWjLBm0U34SfWSZ1q9tlNe6D7RMtmS1Owm6lT1VqvmyZL3kPEQVlddYWMmd/sF4Q3Oly5LvXmDCP0+Lw+vcqGvhu3fV2lShcUgcrDLYkacHFKVBWZ1wcdPC9yQdUOb1GthnWWnE6rZr7VPxkms6z6RD10E16dx7r56lynDCZG5T9ivwPQJwo++eQTLcodO3bov++++64O9jKkKQViS/TEQxUpEkPo2XKzHqWPoveTJ3R85ECUErA94BQE637bVBm67xMLr/BSFYaWE59qif7fx9bJ1TWf65rotfM7QuVpwv7jF721w0lIITA6v6VR6n89Tt2cY5QUvNvGq8ENu2ya1DU09aUpGyNjgjVR4A2ApIpJYY/Oe6PAYSPKEBsEXX5jnax+TeXr5eUyewrWy/6XVFHSO7gKy60pV0cb9Q2bMpKMUXOVh/gS9UaxyyZJndpeU8Nmr+abX4lC9MnR+ZpEN0vfKL4lJvNzU6tVEFojvKVSxvhG583Mg77zksTrqsEgZOq0tqj8h+9Xj+KHjM5nmmHgihEm+j7tGif+xzIj1lIglkQvHNsdKrG/q4u296vDXqr0nH9jRKhEIdlMYB/YV1gest1/rkx95Vm5es4RmfrwFzJ9cYfc+Iev5Oalp+Xn9WdTwhOvn/PWiiYhBdwIdkjMU1z9YaCqeKJZ6mdO8uZGemn279NSSL1ZVC1uqkqXUkPxwDzRwJzTsHmBeu7glCu0yIaVXSHjYv6mP1J6ppZp3aTd+1crSffta9LM5dL6Ya59oorTrVL/88T2yr5rmqT5lijo9M/tRN7t+btAfQkuUWK1f+YZJrMrVa2vUx1zshyC80QDNM9XaUKb21H5D9/vtFX7pHVF5ush32DkHfNBw8DoPOKQphSIJdGz254MFRiWZwOa6GEC1c38LHHNw6BHSyX7vksy0CRkltr9kIZutY5qhZi5tqVINiPvg3J0/ptXakIFlm0tEP2bYRI1U56yAfsKy8PpTZl/JTQUSPSJDvSTikj2xJdook90oJ8CRQyxJGqPypuA5nW2REk07q+Qwpr0yNuQxxqdJ6VCXIlao/OkKHCX6H/8by82M5RoYfHNEyUlQjyJ+ueJkmIglkTRZA7KC4HNeULIUKUoBpbw89Fs4cASIaSYiCXRqFogmvTZ1kadpzipfYXlIdv9E0JIPoklUeA82V79DZPomf+eqGqT9V7qVDBHFb+VD9s38kQIIQNBbIniJ5ZBidm/n+/9n9/qBzH3/exzffJpT7rZrn/2+Z1keoTgb+F7PnxVSxMPFzn36TvyzStzfPsLhkL/7JMQQqKILVHQ+dxNSYG5PoAk7LfwcQJH5QkhA0lOEtWPwvv9D3J6FB4ePoLaKB6F5ypQ5KHQj8IjhJB05CRRjRKheTpT3GCmNHU1/DpUjtkECJSDSYSQgSZ3iXpEDRRFBTyU2X5a07cfvBD5UJGogO4E1kAJIcWAs0QBRt3xqg8IMkycCFqeh5731vADIaJWmkmmkCcHkQghxUReJGqjR+SVLNFkRy1V/6RTNf2zBaPymDiPXyCZAHGy5kkIKUbyLtFBTW+HtG1vk47exMeWR8ql/JGWxIcioeOlqr48BfLbr3S0SfPevoftktKk53CLtBzu8T4NBVpkUXm5LEr/xnMflKiPDllbpcSoCjEYdKF2bJAZwyfIso8TqQsv0Qz5CcEn0YLkt0s2VJfL2KUhD9TtaZba4eVy31s90rFxhlSMXybF8ZyMRDlWvTRAUt+5SJ2zRer2dCVxg9vXwYjxM2TRxgOSH82lllPL0hFSUbNJnfUioX2tVAXKwA7u55gSdSTezdZfEo1zYfgkGiBf+e3ZWivlw5UUAjXcnu21UjG8VpqLruIyuCSavMF71ZfVnlVSNbxCZjXlQ3MDXE6xiS+8zFCijmS4iPS3YJWs9d68EJRSj7qgZ00bob8RR0yrlQ3OM7CyuKiPbpJavc8KGfWreln7eGVfnpL5DdZgHG9oXeOsCFxoPdL8YIVUePvWMq9aq47Ao/eIbH2kSkapmmr58FFS9WyLdEHCXZtkllWmIm1Sf0251G41Ju6RrQ+Uy+SVLnXaQDnqclkkm1qXSdWYClUeI2T6A5vkSPJLoUfanp0hE76HshohE2YskxbbUWfbZNW/T5cRKMvvTZfajUe8CJRzlSx7qV6mq3WxP32NWGXvdsOH3+BtT4+V8ge26too9ue7XnzXbCJ/q7ZvsK6ZZdJ21qSz8uqdO9817pXb2qZafXzJcutqk2W/GiUVar2KMer491jfolHnPS9EC+/IW4u8c4tjXCRbA+8Gi44PbjPDtaCgRH04SPSoihuu4j5VF5CqIRzZVCtjr1GycqqVZchPrxLO+AqpWtmmL8yew1uldnzwoo/IryMtj/QJU9Oj9l0+Vur3JD76JaoEu3CsTHikOXEDnVI3XfK4EseYlOanq2QybsbktiFVtd293secCJNouUx4cKscUbvt6dgqi5S4TW2ua9N9UjF+kTSfUh96u6T5kQlSXr0h0aRVUlhbpcp8jWpCo8zxJabyt2gn8p+4ASvUl1nL4S7pMue+UDVRjwMrJ0v53Ykmd2aJIn+rpA3HdvaArFLlMvZp0zWTer2lSjRxvXWg3I5ukFnqy3TEmBmyao/au7ruD6ypkopr6tVZA+nOez4ILw+0lCrG3ycbvHtR50m1kLbiyyJjvH+baa8FD0rUR+IismsOOmQhJUjFX1tSF+gNFbLE6QHkEfkxclI3p75grW/2I2vCaqKJj/mUqOypl7FW01038ZM3j8q5LVGdD3WRGqkodPpfbdDxkEDF44l8Yb3JjyySWWZbWDek6yAeYRL15wdlY+ehvCZRs9OcOiDN2w8kbhyU+Q2rfH29ffnHDThZVn2aWJ6kgBLt2utvzmeWqD9/+li985BSTopUiSqhWOeieaGKX2g9UNreX0g52+fdnTCJJo5hxkZbc4l+/MRxZYr3bzPtteBBifpIvYh8+C5I+wJLrJciO+tk5Eb6/OgT7NVADHpZf0hU1xArpHY7Lq8u2XR3uUx/0TRrvXxYsg8rm2T8XiVkLSZsB7VOHHfiZtc3nddUzZ1AOXoysEvCL4tNct/1qoY1bZYsenGDtB3t27s+rrBj0eviBuwr7yR5lqh/3xPkvpf6BpYyS9SfP995CrnewiQaWW7A3l+m8+5MmESxLPWLTHd5JM9Rpnhrm2muBQMl6iO9tKKllFgvP537NunzM7AS9WpgDzZLj+7XnC6rrD7gFIlatdQUetWFO7xKNqA7wkuHbeO4Wx7Px6BJTIkCdMns2SprH58l079XIdOfbdOiCivzPnAD+iWlKVRN9JQq9+ETfF0dOA7f9eK7BlLzV3CJpjvvzgTKQ4NlqZLEdZTIZzbxgW1GXAsGStRHrhL1BlUglERUAqcmKMiQH3WRDlhzHhxeJdNVk37DS7NS+ol8NyfSBSTrL5vE4NGMf58lI0z+0DdaVSu1N6Re8PGJI1F1w7Q2S4td40DXhZc+dAZC8lhSJaUplEQVB1ZO99XscByVa/paBP5rIDV/BZVoxvPuSojwvGPIT3M+/bVgoER9ZJBWOimpJukE1bSqfSuxbs9RVau6fpZsithUdmTIT3Bg6eMNcl+agSUtWCW7jp4ePSjiTiJ/aKL5L0oV47s50UxXXzIY0ECy3i5pW1kl05/u+0bX6dV2+kblE6P0+anJBMoxgwzanp5g5bVHDryo8mbmvOoyTwxK6R8x9ByRrQ9OVrVlbDtCokfXSmX5DNnQocrdlm9sQqTRo5ahW8UrN12O0+qlRQ8cIW8TVLmaPKXmz3+eEn2cYx9vUflMbM9JolmcdzdCykOBLqCK8bWyFfLD+Xt5lu6/9w8sRcX7t5n2WvCgRH04SFTR1bpMZoxPTHHCVI/65ojtZE2fpIIhmcespjglPpr+HdxUG1yz5tG1cYbann/wAARvToxqb3hgemKqi54as1YOeBe1Ro/Kqy8dy8UpMwByJp5E8Uuv5qVmWkvIFJmuFlk2Y0JiihOm7Sxt9n4VliqpBB2yae5kPQWo6mWXgg+XRlfTLNUiUceDc6DK2eyrYsx0qX16kRK4yVNmifbsXSaVOO7hS3T5uElUkem8OxFeHuDIxlqZbk9hCkw3jI4PbDPTtaCgRAkhxAFKlBBCHKBECSHEAUqUEEIcoEQJIcQBSpQQQhygRAkhxAFKlBBCHKBECSHEAUqUEEIcoEQJIcSBYZ988okwMDAwMOQWWBMlhJCYQJ4GSpQQQmJCiRJCiAOUKCGEOECJEkKIA5QoIYQ4QIkSQogDlCghhDhAiRJCiAOUKCGEOECJEkKIA5QoIYQ4QIkSQogDlCghhDhAiRJCiAOUKCGEOECJEkKIA5QoIWRQ8Pnnn8tjjz0mZ8+e9ZZEgzRIi3VcoUQJIYOCRx99VKqqqmTBggVpRYo4pEFarOMKJUoIGRRAjrW1tWlFagsUadPJNlsoUULIoCGdSAshUECJEkIGFWEiLZRAwaCV6KVLl+Tw4cNy6tQpbwkhZKgQFGmhBApiS3Tp0qVSU1MjJ06ckP3798v69euzCu+++663hfyAkbXy8vKUcPXVV8uBAwdkz549MnLkSLntttvkm2++0csQt27dOm8LhJDBjC3SQgkUxJboXXfdpTNkBGoymCnkYxTMBhIdPXq0PPzww/LEE08kw9NPPy1ffvmlHDlyRK6//nr9DXTu3DlKlJAhBoRpaqAI+L8oJIp5VfmuVeYCJDp16tSsm+uUKCFDB1ugqIHaTft8i7Rk+0QzSRTLEY90IEyi+EK4++67paKiQofbb79ddu/erftTAf5u27ZNpkyZorsK0D2wcOFC9rMSUsQEBYrPCIUSaWyJYufoDx1ooprzmzZt0vGZJIoDHzdunMydO1d27dqlwwMPPCDf//735f3339dpTL/qnXfeKVu2bJEVK1bIqFGjZP78+dLT06PTEEKKhzCBGgol0tgSvffee3UmTLMeksomNDQ0eFvID9hmcFAJActBOomij3TOnDlajsePH9dpEY4ePSq33nqrFuv58+e1TLFNiNnUTjs7O+XixYv6f0JI8ZBOoIZCiDS2RE0GjEQxYJRNKIREc23Onzx5Um644YYUAZtgtosCRvP98ssvl4kTJ+pt7du3jxIlpAiBZ9IJ1GCLFOu4UtLNeVeJoivA1DDTgdrn9u3b5Xe/+53uO0XBozZLCCkeULHDvZlN7RJpkBbruBJbosWCi0RNcx59opiqZTh9+rQ888wz8vHHH2u5tra2yrx58+SLL77wUog8+eSTejvYHiGExJaoacYPNC4SBRhIwiARBo4woIRm+1VXXaU/79ixQ6fBX3zGcsQjHT6j3xS1U0IIiS3RYpps7yJRgC8Ee4rTzJkzZe/evV5sYorTzp07pbKyUveLQqAYdDp27JiXghAy1Ikt0eXLl+sR+oH+2SchhBQDJdsnSgghxQAkagIlSgghMYE80TWIQIkSQkhMINH29nb94CNKlBBCYgKJfvXVV3rGDiVKCCExgUTPnDmjJ/BTooQQEhNIFA8kwvM2KFFCCIkJJAqB9vb2UqKEEBIXSPTChQv6wUSUKCGExIQSJYQQByBRAyVKCCExoUQJIcQBSpQQQhygRAkhxAFKlBBCHKBECSHEAUqUEEIcoEQJIcQBSpQQQhygRAkhxIEhKVG8YK+mpib0raR2wEv5CCEkHUNSonhbaZg0wwJFSghJx5CUqBFkOopBpC0tLbJgwQJfXuxQrIIv1XwTkguUaAT2TY8wEDd+NjXmYhRSqeabkFygRCOwb3gT+vvGD8tDLgH9v6gd9hdhecgl9He+CckFSjQC+2a2Q3+KNGz/uQY0r/uLsP1HhdraWnn00Ud1CKvB9me+CckFSjQC+0YOhv4iX/sbqHxnEz7//HNvLZETJ06EpiGkmKFEY9DfN3W+9jdQ+c4U1q9fn1Kzb2hoSElHSDFDicagv2/qfO1voPKdLqDpDt544w09b9eAd3ffddddvrSEFDOUaIB33303st+zv2/q/t5fvjD5ThdscaL2aYMaqp2WkGKGErWAQE0cakhBotYrFLnsD32MkNBjjz0mTz75pD4O1O7M4E1/YPIdFZYuXeqlTIA8ouxt7EEmQooZStTDFqgJwRvbLO8v4u4PMjLrYNQbAf9jqhBCsUgUA0g2ECbyB9kbMLXJpCekmKFEFWECNcEWqVnWX8TZnxnZhjjNiDeWQazV1dU6rhgkilqyjd10x3Qm1KBNMMsJKWZylihuVDQXzYWOgM/2lJViJXhzog8Un22Zmv/t/lET11/E2Z+RkV3LC/YtFoNE7fyh5hnsD7UxtVFCipmcJApRmtoN+rdws+IvPmO5PWhQjJgb2sbk2Y4LHkfYeoUkzv7C+jwhLByDCf31BWfyHRbsmigEajfhg5hripBiJrZEcdFDlJiGErwp8Rn9W4hPd3MMNOaGDiPXuEIQZ39hEh0oTL6jAuSOa8UWahBI36QnpJiJLVHTzLX7Cm1MEywqvhhId3PmGlcIwn4GGRYgHNMlYTeXDUZIYTMOCkGmfJuBrmAfqB1MSwd9vIQUM7ElavrZ0tU0EZ+ur2ugMTdzXHJdL1fwhWRG2NMFSAc1O/wPMdkixXIsQ1yYYAtBtvnOFCBjbIuQYqZgEo2asF4MBH8REyfgxi5W7ClOpkZnPhdzy4CQUqZgzfn+ajrmApq32TaV7YB1sG4xg9omyt70keLLrNjzTEgpk9PAEmpy6LMKNg/xGX1diC/mgSVCCMkXsSUKULMxIkVNB018/DWDAaaPjhBCBjs5SRRAkmYenwloPmK5ESxFSggZ7OQsUZugLClSQshQIS8SDYMiJYQMBQomUWCLlANNhJDBSEElCiBSzlEkhAxWCi5RQggZzFCihBDiACVKCCEOlKREkWkGBgYG15AP7O2wJkoIITGhRAkhxAFKlBBCHKBECSHEAUqUEEIcoEQJIcQBSpQQQhygRAkhxAFKlBBCHKBECSHEAUqUEEIcoEQJIcQBSpQQQhygRD3w9H286jkYGhoavBSEEJIKJarAK0zsVz8HA96pTwghYVCiiv3794fKM9uAGishZGhCiSqiJHrvvfeGLg8L2AYhZOhBiSrCJGqa8PgbjAsLlCghQxNKVBGUaLAPNBuRUqKEDE0oUYUt0ahBpEwipUQJGZpQogoj0QULFshHH32kR+tt8BnLER+UpwmUKCFDE0pUYddEER599FEvJgE+2/FhIZ1Ee3t7ZefOndLe3q4/d3d3y44dO6Srq0t/JoSULpSootAS/eabb+T222+XDRs26M9Hjx6VKVOmSEtLi/5MCCldKFFFoSVKCBm8UKKKoESrq6t9P/3EZzs+LFCihAxNKFFFpp99ZhOCg1GEkKEBJeqBB5AsXbpUN93jBKzDvk1Chi6UKCGEOECJEkKIA5QoIYQ44CTRs2fPyvr1671PfrAc8YQQMpjJWaIQpPkZZHB6j5kyhHiKlBAymMlJorZAMaodBpZTpISQwU5siWYjUANFSggZ7MSSaByBGihSQshgJrZEa2trc5Io1qNECSGDjZya89mKlAItPk6dOiVTp06V999/31uSH7C9WbNmybfffustIWRokPPAUiaRlppAkV/7oSMmDLb3zheDRA8cOCA/+clP9F9CSp2cJApskUZNcSoVgQ6l985TooTkl5wlCiDIgZxs//e//937zw0j/VwDaqyZ+Oyzz+TWW2+Vyy+/XMaNGycbN26Uixcv6jg86f6ZZ56RUaNGSUVFhfz2t7+VkydP6jiI5pe//KU8//zzctVVV+n4hx9+WIv/7rvv1tv78Y9/rJ+cDyBJ5OmFF17QyxFfU1Ojl5t4W6KXLl2Sv/zlL8m02OaXX36p49KB/Jn9V1ZWylNPPeWT6LFjx3Q88ovjWrFihX7C/7p166S8vDwZ8BmkKwNCihkniQ40uHGzueEz4SpRhGBt3MY82X7NmjVy/vx5aWtrk4kTJyaf/vTss8/KPffcI52dnXLu3Dn5wx/+IHV1dVo6kOi1114rK1eulDNnzugThnUnT56sxdnT06O7HCBovG7ESBKixfZQPpCZ2V5Qotu2bdPr4mn7ENlzzz2XsUaJPM6bN0/vA/v84osv9D7MevbxYp+Ih2jffvttvX5YTTRdGRBSzJS8RO+//35nkRZaohDXL37xC9m9e7f+DDHs2bNHjhw5omuCEJEtLQjupz/9qRaKqYmaWhnSQ14I+B/YUsK+kN4+sZA1xIl3PNkSxT4hvi1btngpRae55ZZb5ODBg96SVLAf5M9+hireGWUkiuND3m0BorYOMQI7vyBTGRBSzJS8RCEwV5EWWqKQCZqzaKpivuz27dt1rc+Abg/TlDXNXIgOwoNosH38bzCDXgZbSkiH9EZQAAKGWE28kaj5325eI1x99dW+9YNgXYjWftEeltk1WNPdgKa52a7Js51fQ7oyIKSYGRQSRXARaaElaujo6JDXXntNN3WnT58uhw8f1oJFDQ1N2a+++kqng5DyKVHULlETNvG2RH/2s5/Jrl27vJTZkUmiOM6bb75ZdzOg+wLYebbzCzKVASHFDCWqKLREIQb0X6KvD+DvnDlz9KCKaVJDGgY0jfMpUfTB3nTTTSnNedT+ZsyYoQehDGhamwGvKLDtdM35YJ5NF0SURDOVASHFDJvzikJLFLKBNDZt2qQFhb5Q1ADxGTW1+fPny0MPPaRlixOCQRgXiWJdSAsDPOhTRA0PNT3U+Ey8EVZTU5OMHz9e95siHrJH+nTyCg4sYVDqN7/5TVKi+Iz8vPrqq3ow7PXXX9fNdJNndC9AwsgDBsYylQEhxUzJS7QUBpbAhx9+mJzihKlKL774opYWCE4XQpypOeYiUfR/on/RTFvCfF2zPv7aEoXUMd0K067QD4n9I6+ZCOYZ58JIFEDG2D/6RCFH5PfBBx/Ux4yAPmLEmcGmdGVASDFT8hJ1FSjoD4n2F5Ak8gOhuoD1McBkBnlMyDToRMhQo6QlWiyT7REGm0QJIdlR0hLNF+izDEoxbrAHWQYSSpSQ/oUS9cADSPjeeUJIXChRQghxgBIlhBAHKFFCCHGAEiWEEAcoUUIIcYASJYQQByhRQghxgBIlhBAHKNEA+OXRRx99FBkIIcSGErUwr3lOFwbTmz8JIe6ESvTLe/4hGYYS+AlnmDgR8BNPCBT/l6pIg4/QI4S4Q4laQJRBeZqAOFDKIqVECck/lKhFNhIFcUVqnqyE1xHjgczmXeutra36wcPmYcjmZJj0Ue+OB6dPn5Y//vGPMnLkSB3wv3nPP57ghAcz/+lPf9Jxb775pn4Qs3kmaNQT4/Gw5MbGRp1H7HPmzJn6/fEmzrxsz7wXHs9ytV91YsCDlPHk/mJ5PCAhhYQStchWosCIFC9jywSEBXFVV1frVxHj6e8ff/yxfkUG3n+E12PgNR14+Rte8mbS4/UbeL0HZIWnvpv3sCPgafF4cyjizStAsAxx5oHKCxculOPHj4e+LC4MCBQyx+s9IMdVq1bpPEPOeJWJicObSpcsWaLliXR4+Z79VHu8X96sR8hghxK1SCdR1ATXr1/vCxBFUK5hQIp42yaECfDitsWLF+uanQHvIrrzzjv1azWQPt274yHJ4Ivi8D+WIQ4B+wu+WiOdRLF/vCfJfgc93tGE13RA4qhp4j1IkDSwX76Hd0ZBsMiDOTb75XeEDGYoUYt0Eo0K2UoUaSE3YN5uaZrXdsC7j4Lpgf3ueKSB8CA+A14Yh5os4pAG62M7NukkGiZuG7zeGV0PCJA/mvkQJkBNd+7cubpGiloxvgzYlCdDBUrUor8lCumEESZR1CrNu+PDJAp5mTdoFkKiALXQ3bt36/7XsWPH6j5eUzPFseBFdH/729901wOb8mSoQIla9JdEIR70b5o+ToP5P0yi9rvjsTxTcx7rx5FoWHMefZ/oRvj6669lz549utluwHIMHpl9IA77RD+t3U1ByGCHErXoL4kCjMxj8AcDNpDnZ599pvtYIUOkNwNLYe+OR8Agkh2P98DbA0vYX1Cia9as0X27WAfpIGT0a+J/EDWwBMHiFcyoYZ44cUKnR1/pbbfdprcFTJ4wsm/6fgkZClCiFv0pUfQn/vWvf5UpU6bovlBMZdq2bZtejvRoWke9Ox5gihMkak9xwjIQJVHTr3nttdfqWQJmxB0SBhChmeKEaUwQs3klNWqlyA+mOCE/6Pc8dOiQjjOgFhvsZiBksEOJWhRKonEJky4hpDihRC0oUUJIXChRC0qUEBKX2BLt/eqwnPv0nZRw6duvvRSlSy4SxUNLCCFDl1gShUDtODucXDK65EWazaPwggFTfQghQ5dYEj29qc4XFwwnFl4hp576UWj45pU53laKG0wxwq9tsgn2PE1CyNAkJ4me/P0P5FS9kmOWAemxXs+ejd6WCCFkcJCTRM8deMdbkh1Ij/WwPiGEDCYoUUIIcYASJYQQByhRQghxgBIlhBAHKFFCCHGAEiWEEAdykujZbfWhP/2MCkhPiRJCBiOxJJruZ5/ZBKxPCCGDiVgSBfoBJKp5HjdQoISQwUhsiRJCCOmDEiWEEAcoUUIIcYASJYQQByhRQghxgBIlhBAHKFFCCHGAEiWEEAcoUUIIcYASJYQQByhRQghxgBIlhBAHKFFCCHEgVKKEEEKygxIlhBAHKFFCCHGAEiWEEAcoUUIIcYASJYQQByhRQghxgBIlhBAH+iQq8v8BW4Wg6EPK9qoAAAAASUVORK5CYII=)\n",
    "\n",
    "*It may then be downloaded locally (Right-click -> Download)*\n",
    "\n",
    "![dwnld.PNG](data:image/png;base64,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)\n",
    "\n",
    "---\n",
    "\n"
   ]
  }
 ],
 "metadata": {
  "accelerator": "GPU",
  "colab": {
   "collapsed_sections": [],
   "name": "Bayes-Runtime.ipynb",
   "provenance": []
  },
  "kernelspec": {
   "display_name": "R",
   "language": "R",
   "name": "ir"
  },
  "language_info": {
   "codemirror_mode": "r",
   "file_extension": ".r",
   "mimetype": "text/x-r-source",
   "name": "R",
   "pygments_lexer": "r",
   "version": "3.6.0"
  }
 },
 "nbformat": 4,
 "nbformat_minor": 1
}
